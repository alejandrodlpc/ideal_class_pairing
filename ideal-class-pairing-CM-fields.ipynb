{
 "cells": [
  {
   "cell_type": "markdown",
   "id": "1f4f1323",
   "metadata": {},
   "source": [
    "# Ideal Class Pairing Over Totally Real Fields"
   ]
  },
  {
   "cell_type": "markdown",
   "id": "f8c2c0c2",
   "metadata": {},
   "source": [
    "--- \n",
    "\n",
    "## 1. Totally Real Fields"
   ]
  },
  {
   "cell_type": "markdown",
   "id": "a78504b4",
   "metadata": {},
   "source": [
    "The function `enumerate_totallyreal_fields_all(d, x,return_pari_objects=False)` returns a list of totally real fields of degree *deg* and discriminant <= *disc*.\n",
    "\n",
    "**Notes:**\n",
    "\n",
    "- Each element of the list is a pair (*D*,*p*) where *D* is the discriminant of the field and *p* is the defining polynomial.\n",
    "\n",
    "- The argument `return_pari_objects=False` is used so that the Sage recognizes the polynomial as a polynomial.\n",
    "\n",
    "- If the argument `return_seqs=True` is used, then the polynomial is given as a sequence of coefficients.\n",
    "\n",
    "For example, there are 5 totally real fields of degree 2 of discriminant <= 20:"
   ]
  },
  {
   "cell_type": "code",
   "execution_count": 1,
   "id": "bb432176",
   "metadata": {},
   "outputs": [
    {
     "data": {
      "text/plain": [
       "[[5, x^2 - x - 1],\n",
       " [8, x^2 - 2],\n",
       " [12, x^2 - 3],\n",
       " [13, x^2 - x - 3],\n",
       " [17, x^2 - x - 4]]"
      ]
     },
     "execution_count": 1,
     "metadata": {},
     "output_type": "execute_result"
    }
   ],
   "source": [
    "enumerate_totallyreal_fields_all(2,20,return_pari_objects=False)"
   ]
  },
  {
   "cell_type": "markdown",
   "id": "81442892",
   "metadata": {},
   "source": [
    "The function `trf_list_bounded_deg(d,D,t)` creates a list of all totally real fields of degree up to *d* and discriminant up to *D* ; the name of the primitive element is given by 't'. The function takes the following three arguments:\n",
    "- deg_bound, a positive integer that bounds the degrees of the fields,\n",
    "- disc_bound, a positive integer that bounds the discriminant of the fields,\n",
    "- 't', a string that names the primitive element."
   ]
  },
  {
   "cell_type": "code",
   "execution_count": 2,
   "id": "313dd2e8",
   "metadata": {},
   "outputs": [],
   "source": [
    "def trf_list_bounded_deg(deg_bound,disc_bound,adjoined_root_name):\n",
    "    unflat_list_of_fields= []\n",
    "    for d in (1..deg_bound):\n",
    "        trf_enumerated_list = enumerate_totallyreal_fields_all(d,disc_bound,return_pari_objects=False)\n",
    "        trf_poly_list = [y[1] for y in trf_enumerated_list]\n",
    "        unflat_list_of_fields.append([NumberField(f,adjoined_root_name) for f in trf_poly_list])\n",
    "    flat_list_of_fields = []\n",
    "    for deg_d_fields in unflat_list_of_fields:\n",
    "        for field in deg_d_fields:\n",
    "            flat_list_of_fields.append(field)\n",
    "    return flat_list_of_fields"
   ]
  },
  {
   "cell_type": "markdown",
   "id": "42041277",
   "metadata": {},
   "source": [
    "For example"
   ]
  },
  {
   "cell_type": "code",
   "execution_count": 3,
   "id": "b66aafb4",
   "metadata": {},
   "outputs": [
    {
     "data": {
      "text/plain": [
       "[Number Field in t with defining polynomial x - 1,\n",
       " Number Field in t with defining polynomial x^2 - x - 1,\n",
       " Number Field in t with defining polynomial x^2 - 2,\n",
       " Number Field in t with defining polynomial x^2 - 3,\n",
       " Number Field in t with defining polynomial x^2 - x - 3,\n",
       " Number Field in t with defining polynomial x^2 - x - 4,\n",
       " Number Field in t with defining polynomial x^2 - x - 5,\n",
       " Number Field in t with defining polynomial x^2 - 6,\n",
       " Number Field in t with defining polynomial x^2 - 7,\n",
       " Number Field in t with defining polynomial x^2 - x - 7,\n",
       " Number Field in t with defining polynomial x^2 - x - 8,\n",
       " Number Field in t with defining polynomial x^2 - x - 9,\n",
       " Number Field in t with defining polynomial x^2 - 10,\n",
       " Number Field in t with defining polynomial x^2 - x - 10,\n",
       " Number Field in t with defining polynomial x^2 - 11,\n",
       " Number Field in t with defining polynomial x^3 - x^2 - 2*x + 1]"
      ]
     },
     "execution_count": 3,
     "metadata": {},
     "output_type": "execute_result"
    }
   ],
   "source": [
    "deg_bound = 3\n",
    "disc_bound = 50\n",
    "adjoined_root_name = 't'\n",
    "\n",
    "trf_list_bounded_deg(deg_bound,disc_bound,adjoined_root_name)"
   ]
  },
  {
   "cell_type": "markdown",
   "id": "4f65675b",
   "metadata": {},
   "source": [
    "We require our totally real field to be of class number 1. So we select those from the `trf_list_bounded_deg(deg_bound,disc_bound,adjoined_root_name)` with class number 1"
   ]
  },
  {
   "cell_type": "code",
   "execution_count": 4,
   "id": "aa74c5c9",
   "metadata": {},
   "outputs": [
    {
     "data": {
      "text/plain": [
       "[Number Field in t with defining polynomial x - 1,\n",
       " Number Field in t with defining polynomial x^2 - x - 1,\n",
       " Number Field in t with defining polynomial x^2 - 2,\n",
       " Number Field in t with defining polynomial x^2 - 3,\n",
       " Number Field in t with defining polynomial x^2 - x - 3,\n",
       " Number Field in t with defining polynomial x^2 - x - 4,\n",
       " Number Field in t with defining polynomial x^2 - x - 5,\n",
       " Number Field in t with defining polynomial x^2 - 6,\n",
       " Number Field in t with defining polynomial x^2 - 7,\n",
       " Number Field in t with defining polynomial x^2 - x - 7,\n",
       " Number Field in t with defining polynomial x^2 - x - 8,\n",
       " Number Field in t with defining polynomial x^2 - x - 9,\n",
       " Number Field in t with defining polynomial x^2 - x - 10,\n",
       " Number Field in t with defining polynomial x^2 - 11,\n",
       " Number Field in t with defining polynomial x^3 - x^2 - 2*x + 1]"
      ]
     },
     "execution_count": 4,
     "metadata": {},
     "output_type": "execute_result"
    }
   ],
   "source": [
    "deg_bound = 3\n",
    "disc_bound = 50\n",
    "adjoined_root_name = 't'\n",
    "trf_full_list = trf_list_bounded_deg(deg_bound,disc_bound,adjoined_root_name)\n",
    "\n",
    "class_1_trf_list = [F for F in trf_full_list if F.class_number()==1];\n",
    "class_1_trf_list"
   ]
  },
  {
   "cell_type": "markdown",
   "id": "1c31138e",
   "metadata": {},
   "source": [
    "To choose a class number 1 totally real field, we look at `class_1_trf_list` and write"
   ]
  },
  {
   "cell_type": "code",
   "execution_count": 1,
   "id": "35c1be44",
   "metadata": {},
   "outputs": [
    {
     "data": {
      "text/plain": [
       "Number Field in t with defining polynomial x^2 - 7"
      ]
     },
     "execution_count": 1,
     "metadata": {},
     "output_type": "execute_result"
    }
   ],
   "source": [
    "def_poly = x^2 - 7\n",
    "F.<t> = NumberField(def_poly)\n",
    "F"
   ]
  },
  {
   "cell_type": "markdown",
   "id": "16054b32",
   "metadata": {},
   "source": [
    "For example, we compute several arithmetic invariants of the chosen field:"
   ]
  },
  {
   "cell_type": "code",
   "execution_count": 2,
   "id": "1fb77c50",
   "metadata": {},
   "outputs": [
    {
     "name": "stdout",
     "output_type": "stream",
     "text": [
      "ring of integers has integral basis = (1, t)\n",
      "Unit group = Unit group with structure C2 x Z of Number Field in t with defining polynomial x^2 - 7\n",
      "has fundamental units = [-3*t + 8]\n"
     ]
    }
   ],
   "source": [
    "def_poly = x^2 - 7\n",
    "F.<t> = NumberField(def_poly)\n",
    "\n",
    "OF = F.maximal_order()\n",
    "print('ring of integers has integral basis =',OF.gens())\n",
    "\n",
    "UF = UnitGroup(F);\n",
    "print('Unit group =',UF)\n",
    "print('has fundamental units =', UF.fundamental_units())"
   ]
  },
  {
   "cell_type": "markdown",
   "id": "5964bd57",
   "metadata": {},
   "source": [
    "---\n",
    "\n",
    "## 2. Elliptic Curves Over Totally Real Fields"
   ]
  },
  {
   "cell_type": "markdown",
   "id": "9e570eb3",
   "metadata": {},
   "source": [
    "### 2.1. Defining elliptic curves and computing points on them"
   ]
  },
  {
   "cell_type": "markdown",
   "id": "a764cdb6",
   "metadata": {},
   "source": [
    "Elliptic curves and their points can be constructed as follows:\n",
    "\n",
    "1. The function `EllipticCurve(F,[A,B])` defines an elliptic curve over a field *F* with short Weierstrass equation *y^2 = x^3 + a_4 x + a_6* with coefficients *a_4* and *a_6* in *F*.\n",
    "2. We can compute the torsion subgroup tor(*E* ( *F* )) with `torsion_points()`.\n",
    "3. With `gens()`, we can compute \"some\" generators of the Mordell-Weil group of *E* over the field *F*. (*Note*: The function `gens()` will not always give you a complete generating set and/or linearly independent points. However, for the purposes of ideal class pairings, we are interested in just the existence of nontorsion points.)\n",
    "\n",
    "For example:"
   ]
  },
  {
   "cell_type": "code",
   "execution_count": 4,
   "id": "ee2017d4",
   "metadata": {
    "scrolled": true
   },
   "outputs": [
    {
     "name": "stdout",
     "output_type": "stream",
     "text": [
      "- F = Number Field in t with defining polynomial x^2 - 7\n",
      "- E = Elliptic Curve defined by y^2 = x^3 + (-2)*x + 4 over Number Field in t with defining polynomial x^2 - 7\n",
      "- Torsion points of E: [(-2 : 0 : 1), (0 : 1 : 0)]\n",
      "- Some independent nontorsion points of E:\n"
     ]
    },
    {
     "name": "stderr",
     "output_type": "stream",
     "text": [
      "/usr/lib/python3/dist-packages/sage/rings/number_field/number_field.py:9313: DeprecationWarning: non-integer arguments to randrange() have been deprecated since Python 3.10 and will be removed in a subsequent version\n",
      "  real_intervals = [ x[0] for x in self.defining_polynomial().roots(R) ]\n"
     ]
    },
    {
     "data": {
      "text/plain": [
       "[(0 : 2 : 1)]"
      ]
     },
     "execution_count": 4,
     "metadata": {},
     "output_type": "execute_result"
    }
   ],
   "source": [
    "#1. First define the totally real field\n",
    "def_poly = x^2 - 7\n",
    "F.<t> = NumberField(def_poly)\n",
    "print('- F =',F)\n",
    "\n",
    "#2. Define the elliptic curve E\n",
    "a4 = -2\n",
    "a6 = 4\n",
    "E = EllipticCurve(F,[a4,a6]);\n",
    "print('- E =',E)\n",
    "\n",
    "#3. The torsion points of E are:\n",
    "print('- Torsion points of E:',E.torsion_points())\n",
    "\n",
    "#3. The generators of the nontorsion part of E are:\n",
    "print('- Some independent nontorsion points of E:')\n",
    "\n",
    "E.gens()"
   ]
  },
  {
   "cell_type": "markdown",
   "id": "92bcd63d",
   "metadata": {},
   "source": [
    "### 2.2. Manipulating the coordinates of points on elliptic curves"
   ]
  },
  {
   "cell_type": "markdown",
   "id": "c37d6901",
   "metadata": {},
   "source": [
    "The coordinates of a point *P* in *E(F)* aren't necessarily given in lowest terms (recall that *F* is taken to be of class number 1). The function `reduce_coord` takes a point on *E* and returns a list (*x,y*) where *x* and *y* are reduced fractions in *F*. More precisely, it takes as input\n",
    "1. trf = a totally real field of class number 1\n",
    "2. coord = a list [x,y] with two elements that are the coordinates of a point in *E(F)*\n",
    "\n",
    "and returns a list [[*a*,*c*],[*b*,*d*]] where *x*=*a*/*c* and *y*=*b*/*d* are reduced fractions, that is gcd(*a*,*c*)=gcd(*b*,*d*)=1."
   ]
  },
  {
   "cell_type": "code",
   "execution_count": 5,
   "id": "f8d6e8dd",
   "metadata": {},
   "outputs": [],
   "source": [
    "def reduce_coord(trf,coord):\n",
    "    O_trf = trf.maximal_order()\n",
    "    \n",
    "    x_num = coord[0].numerator()\n",
    "    x_den = coord[0].denominator()\n",
    "    y_num = coord[1].numerator()\n",
    "    y_den = coord[1].denominator()\n",
    "    \n",
    "    x_gcd = O_trf(x_num).gcd(x_den)\n",
    "    y_gcd = O_trf(y_num).gcd(y_den)\n",
    "    \n",
    "    return [[x_num/x_gcd,x_den/x_gcd],[y_num/y_gcd,y_den/y_gcd]]"
   ]
  },
  {
   "cell_type": "markdown",
   "id": "ff423011",
   "metadata": {},
   "source": [
    "For example"
   ]
  },
  {
   "cell_type": "code",
   "execution_count": 6,
   "id": "cc718961",
   "metadata": {},
   "outputs": [
    {
     "name": "stdout",
     "output_type": "stream",
     "text": [
      "- F = Number Field in t with defining polynomial x^2 - 7\n",
      "- E = Elliptic Curve defined by y^2 = x^3 + (-2)*x + 4 over Number Field in t with defining polynomial x^2 - 7\n",
      "- Let P be the point P = [1/4, -15/8]\n",
      "- Then P = (a/c,b/d), written in reduced fractions, with [[a,c],[b,d]] =\n"
     ]
    },
    {
     "data": {
      "text/plain": [
       "[[1, 4], [-15, 8]]"
      ]
     },
     "execution_count": 6,
     "metadata": {},
     "output_type": "execute_result"
    }
   ],
   "source": [
    "#1. First define the totally real field\n",
    "def_poly = x^2 - 7\n",
    "F.<t> = NumberField(def_poly)\n",
    "#F = QQ\n",
    "print('- F =',F)\n",
    "\n",
    "#2. Define the elliptic curve E\n",
    "a4 = -2\n",
    "a6 = 4\n",
    "E = EllipticCurve(F,[a4,a6]);\n",
    "print('- E =',E)\n",
    "\n",
    "#3. Find nontorsion point on E\n",
    "P = E.gens()[0]\n",
    "coord = list((P+P).xy())\n",
    "print('- Let P be the point P =',coord)\n",
    "\n",
    "#4. Reduce coordinates to reduced fractions\n",
    "print('- Then P = (a/c,b/d), written in reduced fractions, with [[a,c],[b,d]] =')\n",
    "reduce_coord(F,coord)\n"
   ]
  },
  {
   "cell_type": "markdown",
   "id": "a4c4509e",
   "metadata": {},
   "source": [
    "Another example (over **Q**):"
   ]
  },
  {
   "cell_type": "code",
   "execution_count": 52,
   "id": "ee1545b2",
   "metadata": {},
   "outputs": [
    {
     "name": "stdout",
     "output_type": "stream",
     "text": [
      "- E = Elliptic Curve defined by y^2 = x^3 - 2*x + 5 over Rational Field\n",
      "- Take the nontorsion point: P = [-1298/961, 68177/29791]\n",
      "Then P = (a/c,b/d), written in reduced fractions, with [[a,b],[c,d]] =\n"
     ]
    },
    {
     "data": {
      "text/plain": [
       "[[-1298, 961], [68177, 29791]]"
      ]
     },
     "execution_count": 52,
     "metadata": {},
     "output_type": "execute_result"
    }
   ],
   "source": [
    "#1. Define the elliptic curve E\n",
    "a4 = -2\n",
    "a6 = 5\n",
    "E = EllipticCurve(QQ,[a4,a6]);\n",
    "print('- E =',E)\n",
    "\n",
    "#3. Find nontorsion point on E\n",
    "P = E.gens()[0]\n",
    "coord = list((P+P+P).xy())\n",
    "print('- Take the nontorsion point: P =',coord)\n",
    "\n",
    "#4. Reduce coordinates to reduced fractions\n",
    "print('Then P = (a/c,b/d), written in reduced fractions, with [[a,b],[c,d]] =')\n",
    "reduce_coord(F,coord)"
   ]
  },
  {
   "cell_type": "markdown",
   "id": "1be6d43c",
   "metadata": {},
   "source": [
    "The coordinates of a point in *E* ( *F* ) can be written in the form ( *a* / *c*^2 , *b* / *c*^3 ) where *a,b,c* are elements of the ring of integers of *F*. The function `standard_form` takes in as input\n",
    "1. trf = totally real field of class number 1\n",
    "2. coord = a list [x,y] with two elements that are the coordinates of a point *P* in *E(F)*\n",
    "\n",
    "and returns a list [a,b,c] so that *P* = ( *a* / *c*^2 , *b* / *c*^3 )."
   ]
  },
  {
   "cell_type": "code",
   "execution_count": 7,
   "id": "f972e4cc",
   "metadata": {},
   "outputs": [],
   "source": [
    "def standard_form(trf,coord):\n",
    "    red = reduce_coord(F,coord)  \n",
    "    x_num = red[0][0] \n",
    "    y_num = red[1][0]\n",
    "    e = red[1][1] / red[0][1]\n",
    "    return [x_num,y_num,e]"
   ]
  },
  {
   "cell_type": "markdown",
   "id": "034ceee1",
   "metadata": {},
   "source": [
    "For example"
   ]
  },
  {
   "cell_type": "code",
   "execution_count": 8,
   "id": "e42cdf26",
   "metadata": {},
   "outputs": [
    {
     "name": "stdout",
     "output_type": "stream",
     "text": [
      "- F = Number Field in t with defining polynomial x^2 - 7\n",
      "- E = Elliptic Curve defined by y^2 = x^3 + (-2)*x + 4 over Number Field in t with defining polynomial x^2 - 7\n",
      "- Take the nontorsion point: P = [0, 2]\n",
      "- The reduced form of P is (A/C,B/D) where [[A,C],[B,D]] = [[0, 1], [2, 1]]\n",
      "- Then the standard form of P is (a/c^2,b/c^3), where [a,b,c] =\n"
     ]
    },
    {
     "data": {
      "text/plain": [
       "[0, 2, 1]"
      ]
     },
     "execution_count": 8,
     "metadata": {},
     "output_type": "execute_result"
    }
   ],
   "source": [
    "#1. First define the totally real field\n",
    "def_poly = x^2 - 7\n",
    "F.<t> = NumberField(def_poly)\n",
    "print('- F =',F)\n",
    "\n",
    "#2. Define the elliptic curve E\n",
    "a4 = -2\n",
    "a6 = 4\n",
    "E = EllipticCurve(F,[a4,a6]);\n",
    "print('- E =',E)\n",
    "\n",
    "#3. Find nontorsion point on E\n",
    "P = E.gens()[0].xy()\n",
    "coord = list(P)\n",
    "print('- Take the nontorsion point: P =',coord)\n",
    "print('- The reduced form of P is (A/C,B/D) where [[A,C],[B,D]] =',reduce_coord(F,coord))\n",
    "\n",
    "#4. Convert coordinates to standard form\n",
    "print('- Then the standard form of P is (a/c^2,b/c^3), where [a,b,c] =')\n",
    "standard_form(F,coord)"
   ]
  },
  {
   "cell_type": "markdown",
   "id": "f92577ce",
   "metadata": {},
   "source": [
    "### 2.3. Twisting elliptic curves"
   ]
  },
  {
   "cell_type": "markdown",
   "id": "0d89b57e",
   "metadata": {},
   "source": [
    "We can *twist* an elliptic curve *E* over *F*. The function `twist` takes as input:\n",
    "\n",
    "1. trf = a totally real field of class number 1,\n",
    "2. a4, a6 = the coefficients of the short Weierstrass equation for E,\n",
    "3. disc = a negative fundamental discriminant,\n",
    "\n",
    "and returns the elliptic curve over *trf* with short Weierstrass equation\n",
    ">*y*^2 = *x*^3 + *a_4* *disc*^2 *x* + *a_6* *disc*^3."
   ]
  },
  {
   "cell_type": "code",
   "execution_count": 59,
   "id": "544bd742",
   "metadata": {},
   "outputs": [],
   "source": [
    "def twist(trf,A,B,disc):\n",
    "    return EllipticCurve(trf,[A*disc^2,B*disc^3])"
   ]
  },
  {
   "cell_type": "markdown",
   "id": "ec8e4d21",
   "metadata": {},
   "source": [
    "For example, we can compute (possibly not all) generators of Mordell-Weil group of a twist."
   ]
  },
  {
   "cell_type": "code",
   "execution_count": 61,
   "id": "b6541949",
   "metadata": {},
   "outputs": [
    {
     "name": "stdout",
     "output_type": "stream",
     "text": [
      "- F = Number Field in t with defining polynomial x^2 - 3\n",
      "- E = Elliptic Curve defined by y^2 = x^3 + (-2)*x + 5 over Number Field in t with defining polynomial x^2 - 3\n",
      "The elliptic curve E twisted by disc = -15 is given by:\n"
     ]
    },
    {
     "data": {
      "text/plain": [
       "Elliptic Curve defined by y^2 = x^3 + (-450)*x + (-16875) over Number Field in t with defining polynomial x^2 - 3"
      ]
     },
     "execution_count": 61,
     "metadata": {},
     "output_type": "execute_result"
    }
   ],
   "source": [
    "#1. Define the totally real field\n",
    "def_poly = x^2 - 3\n",
    "F.<t> = NumberField(def_poly)\n",
    "print('- F =',F)\n",
    "\n",
    "#2. Define the elliptic curve E\n",
    "a4 = -2\n",
    "a6 = 5\n",
    "E = EllipticCurve(F,[a4,a6]);\n",
    "print('- E =',E)\n",
    "\n",
    "#3.Twist E by d to get E_twist\n",
    "disc = -15\n",
    "print('The elliptic curve E twisted by disc =',disc,'is given by:')\n",
    "\n",
    "E_twist = twist(F,a4,a6,disc);\n",
    "E_twist"
   ]
  },
  {
   "cell_type": "markdown",
   "id": "73a591a1",
   "metadata": {},
   "source": [
    "The twisted elliptic curve defined by `twist` is the \"canonical model\" of the twist. However, we wish to change to another non-canonical model. In particular, we are interested in how the coordinates of the points change.\n",
    "\n",
    "The function `nc_twist_coord` takes as input:\n",
    "1. coord = A list of coordinates [x,y] of a point P on the canonical model of the twist of E given by\n",
    ">*y*^2 = *x*^3 + *a_4* *disc*^2 *x* + *a_6* *disc*^3\n",
    "2. disc = a negative fundamental discriminant,\n",
    "\n",
    "and returns a list [x',y'] which are the coordinates of the corresponding point P' on the non-canonical model of the twist defined by\n",
    "> *disc* (*y'*/2)^2 = *x'*^3 + *a_4* *x'* + *a_6*.\n",
    "\n",
    "The change of variables is *x'=x/disc* and *y'=2y/disc^2*."
   ]
  },
  {
   "cell_type": "code",
   "execution_count": 170,
   "id": "5f32d489",
   "metadata": {},
   "outputs": [],
   "source": [
    "def nc_twist_coord(coord,disc):\n",
    "    x_coord = coord[0]\n",
    "    y_coord = coord[1]\n",
    "    new_x_coord = x_coord/disc\n",
    "    new_y_coord = (2*y_coord)/(disc^2)\n",
    "    return [new_x_coord,new_y_coord]"
   ]
  },
  {
   "cell_type": "markdown",
   "id": "10a12b2c",
   "metadata": {},
   "source": [
    "For example"
   ]
  },
  {
   "cell_type": "code",
   "execution_count": 165,
   "id": "3422d564",
   "metadata": {},
   "outputs": [
    {
     "name": "stdout",
     "output_type": "stream",
     "text": [
      "- E = Elliptic Curve defined by y^2 = x^3 + (-2)*x + 5 over Number Field in t with defining polynomial x^2 - 3\n",
      "- Twist of E by -15  is the curve\n",
      "  E_twist = Elliptic Curve defined by y^2 = x^3 + (-450)*x + (-16875) over Number Field in t with defining polynomial x^2 - 3\n",
      "- Take some nontorsion point on E_twist: (1443/4, 31587/8*t)\n",
      "- The corresponding point on the noncanonical model is: (-481/20, 10529/300*t)\n",
      "- It has standard form (a/c^2,b/c^3) with [a,b,c] = [-481, 10529, 5*t]\n"
     ]
    }
   ],
   "source": [
    "#1. Define F and the elliptic curve E\n",
    "def_poly = x^2 - 3\n",
    "F.<t> = NumberField(def_poly)\n",
    "a4 = -2\n",
    "a6 = 5\n",
    "E = EllipticCurve(F,[a4,a6]);\n",
    "print('- E =',E)\n",
    "\n",
    "#2.Twist E by disc to get E_twist\n",
    "disc = -15\n",
    "E_twist = twist(F,a4,a6,disc);\n",
    "print('- Twist of E by',disc,' is the curve')\n",
    "print('  E_twist =',E_twist)\n",
    "\n",
    "#3. Select a point P_twist on E_twist\n",
    "P_twist = E_twist.gens()[0];\n",
    "print('- Take some nontorsion point on E_twist:',P_twist.xy())\n",
    "\n",
    "#4. Find coordinates of P_twist in the non canonical model\n",
    "P_nc = nc_twist_coord(P_twist,disc)\n",
    "print('- The corresponding point on the noncanonical model is:',vector(P_nc))\n",
    "print('- It has standard form (a/c^2,b/c^3) with [a,b,c] =',standard_form(F,P_nc))"
   ]
  },
  {
   "cell_type": "markdown",
   "id": "22c1a501",
   "metadata": {},
   "source": [
    "---\n",
    "\n",
    "## 3. CM Fields"
   ]
  },
  {
   "cell_type": "markdown",
   "id": "a9c6e60f",
   "metadata": {},
   "source": [
    "CM fields are totally imaginary quadratic extensions of totally real fields. A CM field *K* can be written in the form\n",
    "> *K* = *F*(*a*)    where *a*^2 is in *F* and *f*(a^2)<0 for every embedding *f* of *K* into **C**\n",
    "\n",
    "Below is a list of negative fundamental discriminants whose square roots we can add to *F*."
   ]
  },
  {
   "cell_type": "code",
   "execution_count": 64,
   "id": "41982b43",
   "metadata": {
    "scrolled": true
   },
   "outputs": [
    {
     "data": {
      "text/plain": [
       "[-3, -4, -7, -8, -11, -15, -19, -20, -23, -24, -31, -35, -39, -40, -43, -47]"
      ]
     },
     "execution_count": 64,
     "metadata": {},
     "output_type": "execute_result"
    }
   ],
   "source": [
    "[-n for n in (1..50) if is_fundamental_discriminant(-n)==1]"
   ]
  },
  {
   "cell_type": "markdown",
   "id": "bdbc6cef",
   "metadata": {},
   "source": [
    "For the special type of discrimintant $-D_E(t):=-4(t^3 + a_4 t + a_6)$, we find a $t$ for which $-D_E(t)$ is fundamental:"
   ]
  },
  {
   "cell_type": "code",
   "execution_count": 24,
   "id": "99ec6a7b",
   "metadata": {},
   "outputs": [
    {
     "name": "stdout",
     "output_type": "stream",
     "text": [
      "first t for which -D_E(t) is fundamental is t = 11\n",
      "which corresponds to -D_E(t) = -5252\n",
      "indeed, is_fundamental_discriminant( -5252 ) = True\n"
     ]
    }
   ],
   "source": [
    "a4 = -2\n",
    "a6 = 4\n",
    "\n",
    "n = 1\n",
    "while is_fundamental_discriminant(-4*(n^3 + a4*n + a6))==0:\n",
    "    n += 1\n",
    "print('first t for which -D_E(t) is fundamental is t =',n)\n",
    "print('which corresponds to -D_E(t) =',-4*(n^3 + a4*n + a6))\n",
    "print('indeed, is_fundamental_discriminant(',-4*(n^3 + a4*n + a6),') =',is_fundamental_discriminant(-4*(n^3 + a4*n + a6)))"
   ]
  },
  {
   "cell_type": "markdown",
   "id": "cc544897",
   "metadata": {},
   "source": [
    "Given a totally real field *F* as above and a discriminant *disc* < 0, we construct an imaginary quadratic extension *K* of *F*.\n",
    "\n",
    "*Notation*:\n",
    "- sqrt(*disc*) is denoted by *T*.\n",
    "- The relative quadratic extension is denoted by *Kr* so *Kr* = *F* ( *T* )\n",
    "- The absolute extension is denoted by *K* so *K* = Q( *S* ), were *S* is some generator."
   ]
  },
  {
   "cell_type": "code",
   "execution_count": 25,
   "id": "f0d8dd61",
   "metadata": {},
   "outputs": [
    {
     "name": "stdout",
     "output_type": "stream",
     "text": [
      "- F = Number Field in t with defining polynomial x^2 - 7\n",
      "- The CM-field as a relative extension is: Kr = Number Field in T with defining polynomial x^2 + 5252 over its base field\n",
      "- The CM-field as an absolute extension is: K = Number Field in S with defining polynomial x^4 + 10490*x^2 + 27657081\n",
      "- Notice that K is indeed a CM-field: K.is_CM() = True\n",
      "- The class number of K is:\n"
     ]
    },
    {
     "data": {
      "text/plain": [
       "1488"
      ]
     },
     "execution_count": 25,
     "metadata": {},
     "output_type": "execute_result"
    }
   ],
   "source": [
    "#1. Define F\n",
    "def_poly = x^2 - 7\n",
    "F.<t> = NumberField(def_poly)\n",
    "print('- F =',F)\n",
    "\n",
    "#2. Choose a negative fundamental discriminant and its minimal polynomial\n",
    "D = -5252\n",
    "def_poly_CM = x^2 - D\n",
    "\n",
    "#3. The associated CM field is\n",
    "Kr.<T> = F.extension(def_poly_CM)\n",
    "print('- The CM-field as a relative extension is: Kr =',Kr)\n",
    "\n",
    "K = Kr.absolute_field('S');\n",
    "print('- The CM-field as an absolute extension is: K =',K)\n",
    "\n",
    "#4. Class number\n",
    "print('- Notice that K is indeed a CM-field: K.is_CM() =',K.is_CM())\n",
    "print('- The class number of K is:')\n",
    "\n",
    "K.class_number()"
   ]
  },
  {
   "cell_type": "markdown",
   "id": "4e8d27d6",
   "metadata": {},
   "source": [
    "---\n",
    "\n",
    "## 4. Quadratic Forms Over Totally Real Fields"
   ]
  },
  {
   "cell_type": "markdown",
   "id": "f1564bac",
   "metadata": {},
   "source": [
    "Given a totally real field, we determine its ring of integers. This is the ring of coefficient of our binary quadratic forms."
   ]
  },
  {
   "cell_type": "code",
   "execution_count": 67,
   "id": "7bdcfc47",
   "metadata": {},
   "outputs": [
    {
     "data": {
      "text/plain": [
       "Maximal Order in Number Field in t with defining polynomial x^2 - 3"
      ]
     },
     "execution_count": 67,
     "metadata": {},
     "output_type": "execute_result"
    }
   ],
   "source": [
    "def_poly = x^2 - 3\n",
    "F.<t> = NumberField(def_poly)\n",
    "\n",
    "OF = F.maximal_order();\n",
    "OF"
   ]
  },
  {
   "cell_type": "markdown",
   "id": "5d960be1",
   "metadata": {},
   "source": [
    "We can compute an integral basis of the ring of integers with `.basis()`"
   ]
  },
  {
   "cell_type": "code",
   "execution_count": 68,
   "id": "be2b206e",
   "metadata": {},
   "outputs": [
    {
     "data": {
      "text/plain": [
       "[1, t]"
      ]
     },
     "execution_count": 68,
     "metadata": {},
     "output_type": "execute_result"
    }
   ],
   "source": [
    "def_poly = x^2 - 3\n",
    "F.<t> = NumberField(def_poly)\n",
    "OF = F.maximal_order();\n",
    "\n",
    "OF.basis()"
   ]
  },
  {
   "cell_type": "markdown",
   "id": "4d17e79a",
   "metadata": {},
   "source": [
    "A binary quadratic form *a x*^2 + *b x y* + *c y*^2 over the ring of integers of a totally real field *F* is constructed with the function `QuadraticForm(O,2,[a,b,c])`. The polynomial version is obtained by then using `.polynomial()`."
   ]
  },
  {
   "cell_type": "code",
   "execution_count": 72,
   "id": "c90e5d34",
   "metadata": {
    "scrolled": true
   },
   "outputs": [
    {
     "name": "stdout",
     "output_type": "stream",
     "text": [
      "The quadratic form is: Quadratic form in 2 variables over Maximal Order in Number Field in t with defining polynomial x^2 - 3 with coefficients: \n",
      "[ 2 2 ]\n",
      "[ * t + 1 ]\n",
      "As a polynomial, this form is:\n"
     ]
    },
    {
     "data": {
      "text/plain": [
       "2*x0^2 + 2*x0*x1 + (t + 1)*x1^2"
      ]
     },
     "execution_count": 72,
     "metadata": {},
     "output_type": "execute_result"
    }
   ],
   "source": [
    "#1. Define F and its ring of integers OF\n",
    "def_poly = x^2 - 3\n",
    "F.<t> = NumberField(def_poly)\n",
    "OF = F.ring_of_integers();\n",
    "\n",
    "#2. Write the coefficients of the form ax^2+bxy+cy^2 \n",
    "a = 2\n",
    "b = 2\n",
    "c = 1+t\n",
    "\n",
    "#3. Define the associated form with the above coefficients\n",
    "Q = QuadraticForm(OF,2,[a,b,c]);\n",
    "print('The quadratic form is:',Q)\n",
    "print('As a polynomial, this form is:')\n",
    "Q.polynomial()"
   ]
  },
  {
   "cell_type": "markdown",
   "id": "aac0a744",
   "metadata": {},
   "source": [
    "The discriminant of a form *Q* can be computed with `.disc()`"
   ]
  },
  {
   "cell_type": "code",
   "execution_count": 74,
   "id": "1843f453",
   "metadata": {},
   "outputs": [
    {
     "name": "stdout",
     "output_type": "stream",
     "text": [
      "The discriminant of  2*x0^2 + 2*x0*x1 + (t + 1)*x1^2 is =\n"
     ]
    },
    {
     "data": {
      "text/plain": [
       "-8*t - 4"
      ]
     },
     "execution_count": 74,
     "metadata": {},
     "output_type": "execute_result"
    }
   ],
   "source": [
    "def_poly = x^2 - 3\n",
    "F.<t> = NumberField(def_poly)\n",
    "OF = F.ring_of_integers();\n",
    "\n",
    "a = 2\n",
    "b = 2\n",
    "c = 1+t\n",
    "Q = QuadraticForm(OF,2,[a,b,c]);\n",
    "\n",
    "print('The discriminant of ',Q.polynomial(),'is =')\n",
    "Q.disc()"
   ]
  },
  {
   "cell_type": "markdown",
   "id": "6007de02",
   "metadata": {},
   "source": [
    "The function `primitive_check(Q,O)` checks whether the binary quadratic form *Q* is primitive, i.e. its coefficients are relatively prime in the ring *O*."
   ]
  },
  {
   "cell_type": "code",
   "execution_count": 75,
   "id": "4a0e6e47",
   "metadata": {},
   "outputs": [],
   "source": [
    "def primitive_check(Q,O):\n",
    "    f = Q.polynomial()\n",
    "    return O.ideal(Q.coefficients()) == O.ideal(1)"
   ]
  },
  {
   "cell_type": "markdown",
   "id": "e6805495",
   "metadata": {},
   "source": [
    "For example, below is an example of a primitive form and a nonprimitive form"
   ]
  },
  {
   "cell_type": "code",
   "execution_count": 81,
   "id": "89a156de",
   "metadata": {
    "scrolled": true
   },
   "outputs": [
    {
     "name": "stdout",
     "output_type": "stream",
     "text": [
      "The form  3*t*x0^2 + 20*x0*x1 + (t + 1)*x1^2 is primitive: True\n",
      "The form  6*x0^2 + 2*x0*x1 + (t + 1)*x1^2 is primitive: False\n"
     ]
    }
   ],
   "source": [
    "def_poly = x^2 - 3\n",
    "F.<t> = NumberField(def_poly)\n",
    "OF = F.ring_of_integers();\n",
    "\n",
    "a1 = 3*t\n",
    "b1 = 20\n",
    "c1 = 1+t\n",
    "Q1 = QuadraticForm(OF,2,[a1,b1,c1]);\n",
    "f1 = Q1.polynomial()\n",
    "print('The form ',f1,'is primitive:',primitive_check(Q1,OF))\n",
    "\n",
    "a2 = 6\n",
    "b2 = 2\n",
    "c2 = 1+t\n",
    "Q2 = QuadraticForm(OF,2,[a2,b2,c2]);\n",
    "f2 = Q2.polynomial()\n",
    "print('The form ',f2,'is primitive:',primitive_check(Q2,OF))"
   ]
  },
  {
   "cell_type": "markdown",
   "id": "6a946e45",
   "metadata": {},
   "source": [
    "---\n",
    "\n",
    "## Ideal Class Pairing"
   ]
  },
  {
   "cell_type": "markdown",
   "id": "8fc4def6",
   "metadata": {},
   "source": [
    "Given a point *P* on *E* defined by\n",
    ">*y*^2 = *x*^3 + a_4 *x* +a_6\n",
    "\n",
    "and a *Q* on the nonstandard model of the *disc*-twist *E_twist* of *E*, defined by\n",
    ">d(y/2)^2 = x^3 + a_4 x + a_6,\n",
    "\n",
    "we define a binary quadratic form with the function `point_pairing_coef`. This function takes as input:\n",
    "\n",
    "**Input:**\n",
    "\n",
    "1. trf = A totally real field of class number 1,\n",
    "2. disc = a negative fundamental discriminant,\n",
    "3. P_coord = a list [A,B,C] for which *P* = (*A*/*C*^2,*B*/*C*^3) in *E*(*F*) is in standard form,\n",
    "4. Q_coord = a list [u,v,w] for which *Q* = (*u*/*w*^2,*v*/*w*^3) in *E_twist*(*F*) is in standard form,\n",
    "5. l = an algebraic integer in *F*\n",
    "\n",
    "**Output:** A list [a,b,c] which form the coefficients of a binary quadratic form *a x*^2 + *b x y* + *c y*^2."
   ]
  },
  {
   "cell_type": "code",
   "execution_count": 182,
   "id": "23b4029e",
   "metadata": {},
   "outputs": [],
   "source": [
    "def point_pairing_coef(trf,disc,P_coord,Q_coord,l):\n",
    "    \n",
    "    OF = trf.maximal_order() # ring of integers of trf\n",
    "    \n",
    "    A = P_coord[0]\n",
    "    B = P_coord[1]\n",
    "    C = P_coord[2]\n",
    "    u = Q_coord[0]\n",
    "    v = Q_coord[1]\n",
    "    w = Q_coord[2]\n",
    "    \n",
    "    alpha = abs(w^2 * A - u * C^2)\n",
    "    G = OF(alpha).gcd(OF(v^2 * C^6))\n",
    "    \n",
    "    coef_xx = alpha/G\n",
    "    coef_xy = (2 * w^3 * B + l * coef_xx)/(v * C^3)\n",
    "    coef_yy = ((2 * w^3 * B + l * coef_xx)^2 - disc * v^2 * C^6)/(4 * v^2 * C^6 * coef_xx)\n",
    "    \n",
    "    return [coef_xx,coef_xy,coef_yy]"
   ]
  },
  {
   "cell_type": "markdown",
   "id": "ae396113",
   "metadata": {},
   "source": [
    "For example, over *F* = **Q**, the rationals, we have"
   ]
  },
  {
   "cell_type": "code",
   "execution_count": 199,
   "id": "6c014b45",
   "metadata": {},
   "outputs": [
    {
     "name": "stdout",
     "output_type": "stream",
     "text": [
      "- E =  Elliptic Curve defined by y^2 = x^3 - 3*x + 3 over Rational Field\n",
      "- Twist by: -4\n",
      "- E_twist = Elliptic Curve defined by y^2 = x^3 - 48*x - 192 over Rational Field\n",
      "- Nontorsion point E: P = (13/9 : -35/27 : 1) with standard form: [13, -35, 3]\n",
      "- Point on E_twist: Q_twist = (16 : 56 : 1)\n",
      "  The corresponding point on the noncanonical model is Q = (-4, 7) with standard form: [-4, 7, 1]\n",
      "- The quadratic forms with -1001 < l < 1001 with integral coefficients are listed below as [l,[a,b,c]]:\n"
     ]
    },
    {
     "data": {
      "text/plain": [
       "[[-686, [1, -4, 5]],\n",
       " [-308, [1, -2, 2]],\n",
       " [70, [1, 0, 1]],\n",
       " [448, [1, 2, 2]],\n",
       " [826, [1, 4, 5]]]"
      ]
     },
     "execution_count": 199,
     "metadata": {},
     "output_type": "execute_result"
    }
   ],
   "source": [
    "#1. Define the elliptic curve E\n",
    "a4 = -3\n",
    "a6 = 3\n",
    "E = EllipticCurve(QQ,[a4,a6]);\n",
    "print('- E = ',E)\n",
    "\n",
    "#2.  Twist by disc\n",
    "disc = -4\n",
    "E_twist = twist(QQ,a4,a6,disc)\n",
    "print('- Twist by:',disc)\n",
    "print('- E_twist =',E_twist) \n",
    "\n",
    "#3. Find nontorsion point on E and write it in the form (a/c^2,b/c^3)\n",
    "P = E.gens()[0]+E.gens()[0]+E.gens()[0]\n",
    "P_xy = list(P.xy())\n",
    "P_coord = standard_form(QQ,P_xy)\n",
    "print('- Nontorsion point E: P =',P,'with standard form:',P_coord)\n",
    "\n",
    "#4. Find any point on the twist Ed and use the change of variables to take the point to the noncanonical model\n",
    "Q_twist = E_twist.gens()[0]\n",
    "print('- Point on E_twist: Q_twist =',Q_twist)\n",
    "\n",
    "Q = nc_twist_coord(Q_twist.xy(),disc)\n",
    "Q_coord = standard_form(QQ,Q)\n",
    "print('  The corresponding point on the noncanonical model is Q =',vector(Q),'with standard form:',Q_coord)\n",
    "\n",
    "#6. Determine values of the parameter l\n",
    "box_size = 1000\n",
    "l_values = list((-box_size..box_size))\n",
    "#l_values = [coeff[0]+coeff[1]*t for coeff in Tuples((-box_size..box_size),2).list()]\n",
    "\n",
    "#7. Compute the quadratic forms for those values of l\n",
    "print('- The quadratic forms with',-box_size-1,'< l <',box_size+1,'with integral coefficients are listed below as [l,[a,b,c]]:')\n",
    "[[l,point_pairing_coef(QQ,disc,P_coord,Q_coord,l)] for l in l_values if point_pairing_coef(QQ,disc,P_coord,Q_coord,l)[2].is_integral()]\n"
   ]
  },
  {
   "cell_type": "markdown",
   "id": "5795690e",
   "metadata": {},
   "source": [
    "Another example (not over **Q**)"
   ]
  },
  {
   "cell_type": "code",
   "execution_count": 229,
   "id": "dcef2f37",
   "metadata": {},
   "outputs": [
    {
     "name": "stdout",
     "output_type": "stream",
     "text": [
      "- F = Number Field in t with defining polynomial x^2 - 3\n",
      "- E =  Elliptic Curve defined by y^2 = x^3 + (-2)*x + 5 over Number Field in t with defining polynomial x^2 - 3\n",
      "- Twist by: -3\n",
      "- E_twist = Elliptic Curve defined by y^2 = x^3 + (-18)*x + (-135) over Number Field in t with defining polynomial x^2 - 3\n",
      "- Nontorsion point E: P = (3*t + 5 : 10*t + 15 : 1) with standard form: [3*t + 5, 10*t + 15, 1]\n",
      "- Point on E_twist: Q_twist = (9 : 12*t : 1)\n",
      "  The corresponding point on the noncanonical model is Q = (-3, 8/3*t) with standard form: [-3, 8, t]\n",
      "- The quadratic forms with parameters l with integral coefficients bounded by 2 are listed below as [l,[a,b,c]]:\n"
     ]
    },
    {
     "data": {
      "text/plain": [
       "[[-2*t - 2, [9*t + 18, 9/2*t + 45/4, 65/192*t + 205/96]],\n",
       " [-2*t - 1, [9*t + 18, 45/8*t + 27/2, 503/768*t + 1117/384]],\n",
       " [-2*t, [9*t + 18, 27/4*t + 63/4, 25/24*t + 367/96]],\n",
       " [-2*t + 1, [9*t + 18, 63/8*t + 18, 1151/768*t + 1873/384]],\n",
       " [-2*t + 2, [9*t + 18, 9*t + 81/4, 389/192*t + 583/96]],\n",
       " [-t - 2, [9*t + 18, 27/4*t + 117/8, 881/768*t + 1225/384]],\n",
       " [-t - 1, [9*t + 18, 63/8*t + 135/8, 77/48*t + 1603/384]],\n",
       " [-t, [9*t + 18, 9*t + 153/8, 1637/768*t + 2035/384]],\n",
       " [-t + 1, [9*t + 18, 81/8*t + 171/8, 131/48*t + 2521/384]],\n",
       " [-t + 2, [9*t + 18, 45/4*t + 189/8, 2609/768*t + 3061/384]],\n",
       " [-2, [9*t + 18, 9*t + 18, 13/6*t + 14/3]],\n",
       " [-1, [9*t + 18, 81/8*t + 81/4, 2123/768*t + 2251/384]],\n",
       " [0, [9*t + 18, 45/4*t + 45/2, 659/192*t + 691/96]],\n",
       " [1, [9*t + 18, 99/8*t + 99/4, 3203/768*t + 3331/384]],\n",
       " [2, [9*t + 18, 27/2*t + 27, 239/48*t + 247/24]],\n",
       " [t - 2, [9*t + 18, 45/4*t + 171/8, 2609/768*t + 2521/384]],\n",
       " [t - 1, [9*t + 18, 99/8*t + 189/8, 397/96*t + 3061/384]],\n",
       " [t, [9*t + 18, 27/2*t + 207/8, 3797/768*t + 3655/384]],\n",
       " [t + 1, [9*t + 18, 117/8*t + 225/8, 559/96*t + 4303/384]],\n",
       " [t + 2, [9*t + 18, 63/4*t + 243/8, 5201/768*t + 5005/384]],\n",
       " [2*t - 2, [9*t + 18, 27/2*t + 99/4, 929/192*t + 853/96]],\n",
       " [2*t - 1, [9*t + 18, 117/8*t + 27, 4391/768*t + 4033/384]],\n",
       " [2*t, [9*t + 18, 63/4*t + 117/4, 20/3*t + 1177/96]],\n",
       " [2*t + 1, [9*t + 18, 135/8*t + 63/2, 5903/768*t + 5437/384]],\n",
       " [2*t + 2, [9*t + 18, 18*t + 135/4, 1685/192*t + 1555/96]]]"
      ]
     },
     "execution_count": 229,
     "metadata": {},
     "output_type": "execute_result"
    }
   ],
   "source": [
    "#1. Define the totally real field and its ring of integers\n",
    "def_poly = x^2 - 3\n",
    "F.<t> = NumberField(def_poly)\n",
    "OF = F.maximal_order()\n",
    "print('- F =',F)\n",
    "\n",
    "#1. Define the elliptic curve E\n",
    "a4 = -2\n",
    "a6 = 5\n",
    "E = EllipticCurve(F,[a4,a6]);\n",
    "print('- E = ',E)\n",
    "\n",
    "#2.  Twist by disc\n",
    "disc = -3\n",
    "E_twist = twist(F,a4,a6,disc)\n",
    "print('- Twist by:',disc)\n",
    "print('- E_twist =',E_twist) \n",
    "\n",
    "#3. Find nontorsion point on E and write it in the form (a/c^2,b/c^3)\n",
    "P = E.gens()[0]\n",
    "P_xy = list(P.xy())\n",
    "P_coord = standard_form(F,P_xy)\n",
    "print('- Nontorsion point E: P =',P,'with standard form:',P_coord)\n",
    "\n",
    "#4. Find any point on the twist Ed and use the change of variables to take the point to the noncanonical model\n",
    "Q_twist = E_twist.gens()[0]\n",
    "print('- Point on E_twist: Q_twist =',Q_twist)\n",
    "\n",
    "Q = nc_twist_coord(Q_twist.xy(),disc)\n",
    "Q_coord = standard_form(F,Q)\n",
    "print('  The corresponding point on the noncanonical model is Q =',vector(Q),'with standard form:',Q_coord)\n",
    "\n",
    "#6. Determine values of the parameter l\n",
    "box_size = 2\n",
    "int_basis = vector(F,OF.gens())\n",
    "basis_length = len(int_basis)\n",
    "l_values = [vector(F,coef).dot_product(int_basis) for coef in Tuples((-box_size..box_size),basis_length).list()]\n",
    "\n",
    "#7. Compute the quadratic forms for those values of l\n",
    "print('- The quadratic forms with parameters l with integral coefficients bounded by',box_size,'are listed below as [l,[a,b,c]]:')\n",
    "[[l,point_pairing_coef(F,disc,P_coord,Q_coord,l)] for l in l_values]\n",
    "#[[l,point_pairing_coef(F,disc,P_coord,Q_coord,l)] for l in l_values if point_pairing_coef(F,disc,P_coord,Q_coord,l)[2].is_integral()]"
   ]
  },
  {
   "cell_type": "markdown",
   "id": "c33e9238",
   "metadata": {},
   "source": [
    "We consider the following elliptic curve and its twist"
   ]
  },
  {
   "cell_type": "code",
   "execution_count": null,
   "id": "c7f7edd1",
   "metadata": {},
   "outputs": [],
   "source": []
  },
  {
   "cell_type": "markdown",
   "id": "53c7ba76",
   "metadata": {},
   "source": [
    "---\n",
    "\n",
    "## Scratch"
   ]
  },
  {
   "cell_type": "code",
   "execution_count": null,
   "id": "5b118383",
   "metadata": {
    "slideshow": {
     "slide_type": "-"
    }
   },
   "outputs": [],
   "source": [
    "# Ideal Class Pairing over CM fields\n",
    "\n",
    "def ICP(n,m,d,P):\n",
    "    # every rational point can be rewritten as (A/C^2,B/C^3)\n",
    "    A = P.xy()[0].numerator()\n",
    "    B = P.xy()[1].numerator() \n",
    "    C = (P.xy()[1].denominator())/(P.xy()[0].denominator())\n",
    "    # the two rational points on the twist can be rewritten as (u/w^2,v/w^3)\n",
    "    u = [0,n]\n",
    "    v = [2*m,2*m]\n",
    "    w = [1,1]\n",
    "    # Define some constants attached to the above coordinates\n",
    "    alpha = [abs(A*w[0]^2-u[0]*C^2),abs(A*w[1]^2-u[1]*C^2)]\n",
    "    G = [gcd(alpha[0],C^6 * v[0]^2),gcd(alpha[1],C^6 * v[1]^2)]\n",
    "    H = [gcd(2*w[0]^3 * B, v[0]*C^3),gcd(2*w[1]^3 * B, v[1]*C^3)]\n",
    "    var('x')\n",
    "    k = [Integer(solve_mod((alpha[0]/G[0])*x==-(2*w[0]^3 * B/H[0])-(C^3 * v[0]*d/H[0]),2*C^3 * v[0]/H[0])[0][0]),\n",
    "        Integer(solve_mod((alpha[1]/G[1])*x==-(2*w[1]^3 * B/H[1])-(C^3 * v[1]*d/H[1]),2*C^3 * v[1]/H[1])[0][0])]\n",
    "    l = [Integer(mod(H[0]*k[0],2*C^3 * v[0])),Integer(mod(H[1]*k[1],2*C^3 * v[1]))]\n",
    "    # Coefficients of binary quadratic form\n",
    "    a = [alpha[0]/G[0],alpha[1]/G[1]]\n",
    "    b = [(2 * w[0]^3 * B + l[0] * (alpha[0]/G[0]) )/(v[0] * C^3),\n",
    "         (2 * w[1]^3 * B + l[1] * (alpha[1]/G[1]) )/(v[1] * C^3)]\n",
    "    c = [((2 * w[0]^3 * B + l[0] * (alpha[0]/G[0]))^2+C^6 * v[0]^2 * d)*G[0]/(4*v[0]^2*C^6*alpha[0]),\n",
    "        ((2 * w[1]^3 * B + l[1] * (alpha[1]/G[1]))^2+C^6 * v[1]^2 * d)*G[1]/(4*v[1]^2*C^6*alpha[1])]\n",
    "    return [[a[0],b[0],c[0]],[a[1],b[1],c[1]]]\n",
    "\n",
    "def ICPQF(n,m,d,P):\n",
    "    icplist = ICP(n,m,d,P)\n",
    "    Q = [BinaryQF(icplist[0]),BinaryQF(icplist[1])]\n",
    "    return [Q[0].reduced_form(),Q[1].reduced_form()]#[0] if Q[0].is_equivalent(Q[1]) else [Q[0].reduced_form(),Q[1].reduced_form()]\n",
    "\n",
    "# Given a parameters n,m,d and a point P on the curve E(n,m,d), checks w"
   ]
  },
  {
   "cell_type": "code",
   "execution_count": null,
   "id": "892587d4",
   "metadata": {},
   "outputs": [],
   "source": [
    "[OF.basis(),OKr.basis(),OK.basis()]"
   ]
  },
  {
   "cell_type": "code",
   "execution_count": null,
   "id": "e7600f0e",
   "metadata": {},
   "outputs": [],
   "source": [
    "I = K.ideal([3*c,3*15])\n",
    "I.prime_factors()"
   ]
  },
  {
   "cell_type": "code",
   "execution_count": null,
   "id": "935fe227",
   "metadata": {},
   "outputs": [],
   "source": [
    "O.basis()"
   ]
  },
  {
   "cell_type": "code",
   "execution_count": null,
   "id": "ee858f7a",
   "metadata": {},
   "outputs": [],
   "source": []
  },
  {
   "cell_type": "code",
   "execution_count": null,
   "id": "7bc5c05b",
   "metadata": {},
   "outputs": [],
   "source": [
    "inf = F.places()[0]\n",
    "F.abs_val(inf,(-4)*((-8*t - 14)/2)^2 - (-3*t - 4)^3 - t)"
   ]
  },
  {
   "cell_type": "code",
   "execution_count": null,
   "id": "7a78d81d",
   "metadata": {},
   "outputs": [],
   "source": [
    "(-4)*((-8*t - 14)/2)^2 - (-3*t - 4)^3 - t"
   ]
  },
  {
   "cell_type": "code",
   "execution_count": null,
   "id": "0063f23b",
   "metadata": {},
   "outputs": [],
   "source": [
    "[1,2,3].append(4)"
   ]
  },
  {
   "cell_type": "code",
   "execution_count": null,
   "id": "f99cf809",
   "metadata": {},
   "outputs": [],
   "source": [
    "def_poly = x^2 - 3\n",
    "F.<t> = NumberField(def_poly)\n",
    "\n",
    "D = -40\n",
    "def_poly_CM = x^2 - D\n",
    "\n",
    "Kr.<T> = F.extension(def_poly_CM)\n",
    "K = Kr.absolute_field('S');\n",
    "\n",
    "#factor(Kr.relative_discriminant())\n",
    "\n",
    "OF = F.ring_of_integers();\n",
    "OK = K.ring_of_integers();\n",
    "OKr = Kr.ring_of_integers();\n",
    "[F,K,Kr,OF.basis(),OKr.basis(),OK.basis()]"
   ]
  },
  {
   "cell_type": "code",
   "execution_count": null,
   "id": "bb9302cc",
   "metadata": {},
   "outputs": [],
   "source": [
    "def_poly = x^2 - 3\n",
    "F.<t> = NumberField(def_poly)\n",
    "A = -2\n",
    "B = 5\n",
    "E = EllipticCurve(F,[A,B]);\n",
    "\n",
    "P = E.gens()[0];\n",
    "Q = E.gens()[1];\n",
    "R = E.gens()[2];\n",
    "\n",
    "D = -7\n",
    "def_poly_CM = x^2 - D\n",
    "\n",
    "Kr.<T> = F.extension(def_poly_CM)\n",
    "K = Kr.absolute_field('S');\n",
    "\n",
    "R"
   ]
  },
  {
   "cell_type": "code",
   "execution_count": null,
   "id": "c6a8ed5a",
   "metadata": {},
   "outputs": [],
   "source": [
    "E.torsion_points()"
   ]
  },
  {
   "cell_type": "code",
   "execution_count": null,
   "id": "ef9e41f2",
   "metadata": {},
   "outputs": [],
   "source": [
    "E.gens()"
   ]
  },
  {
   "cell_type": "code",
   "execution_count": null,
   "id": "dfa592f0",
   "metadata": {},
   "outputs": [],
   "source": [
    "F.ring_of_integers().basis()"
   ]
  },
  {
   "cell_type": "code",
   "execution_count": null,
   "id": "aca59dac",
   "metadata": {},
   "outputs": [],
   "source": [
    "F.class_number()"
   ]
  },
  {
   "cell_type": "code",
   "execution_count": null,
   "id": "89926246",
   "metadata": {},
   "outputs": [],
   "source": [
    "(-5/3)^3+8"
   ]
  },
  {
   "cell_type": "code",
   "execution_count": null,
   "id": "bcbe6978",
   "metadata": {},
   "outputs": [],
   "source": [
    "1443*3"
   ]
  },
  {
   "cell_type": "code",
   "execution_count": null,
   "id": "2a39bc1d",
   "metadata": {},
   "outputs": [],
   "source": [
    "E"
   ]
  },
  {
   "cell_type": "code",
   "execution_count": null,
   "id": "f9964e89",
   "metadata": {},
   "outputs": [],
   "source": [
    "I = F.ideal(15)\n",
    "J = F.ideal(100*t)\n",
    "[factor(I),factor(J),I+J]"
   ]
  },
  {
   "cell_type": "code",
   "execution_count": null,
   "id": "e3b17ec8",
   "metadata": {},
   "outputs": [],
   "source": [
    "ED = EllipticCurve(F,[A*225,-B*3375]);\n",
    "ED.gens()"
   ]
  },
  {
   "cell_type": "code",
   "execution_count": null,
   "id": "0c4ad580",
   "metadata": {},
   "outputs": [],
   "source": [
    "I = F.ideal(20)\n",
    "J = F.ideal(-481)\n",
    "[factor(I),factor(J),I+J]"
   ]
  },
  {
   "cell_type": "code",
   "execution_count": null,
   "id": "8a164d28",
   "metadata": {},
   "outputs": [],
   "source": [
    "I = F.ideal(10529)\n",
    "J = F.ideal(100*t)\n",
    "[factor(I),factor(J),I+J]"
   ]
  },
  {
   "cell_type": "code",
   "execution_count": null,
   "id": "d9d3e8f1",
   "metadata": {},
   "outputs": [],
   "source": [
    "I = F.ideal(1443)\n",
    "J = F.ideal(4)\n",
    "[factor(I),factor(J),I+J]"
   ]
  },
  {
   "cell_type": "code",
   "execution_count": null,
   "id": "669b51cf",
   "metadata": {},
   "outputs": [],
   "source": [
    "I = F.ideal(31587*t)\n",
    "J = F.ideal(8)\n",
    "[factor(I),factor(J),I+J]"
   ]
  },
  {
   "cell_type": "code",
   "execution_count": null,
   "id": "7991536f",
   "metadata": {},
   "outputs": [],
   "source": [
    "#1. First define the totally real field and its ring of integers\n",
    "def_poly = x^2 - 3\n",
    "F.<t> = NumberField(def_poly)\n",
    "print('- F =',F)\n",
    "\n",
    "#2. Define the elliptic curve E\n",
    "a4 = -2\n",
    "a6 = 5\n",
    "E = EllipticCurve(F,[a4,a6]);\n",
    "print('- E = ',E)\n",
    "\n",
    "#3. Twist by d\n",
    "d = -15\n",
    "Ed = twist(F,a4,a6,d)\n",
    "print('- Twist by d =',d)\n",
    "\n",
    "#4. Find nontorsion point on E and write it in the form (a/c^2,b/c^3)\n",
    "P = E.gens()[2].xy()\n",
    "P_sf = standardform(P)\n",
    "print('- Nontorsion point P on E:',P)\n",
    "print('- Standard form of P:',P_sf)\n",
    "\n",
    "#5. Find any point on the twist Ed and use the change of variables\n",
    "#   to take the point to the noncanonical model\n",
    "Q_twist = Ed.gens()[0]\n",
    "Q_sf = nc_twist_coord(Q_twist.xy(),d)\n",
    "print('- Point Q* on twist E_d:', Q_twist)\n",
    "print('- Corresponding point Q on noncanonical model:',vector(Q_sf))\n",
    "print('- Standard form of Q:',standardform(Q_sf))\n"
   ]
  },
  {
   "cell_type": "code",
   "execution_count": null,
   "id": "b827f472",
   "metadata": {},
   "outputs": [],
   "source": [
    "I = F.ideal(10*t)\n",
    "J = F.ideal(9)\n",
    "II = I+J\n",
    "list(II.gens_reduced())[0]"
   ]
  },
  {
   "cell_type": "code",
   "execution_count": null,
   "id": "4e8eb25d",
   "metadata": {},
   "outputs": [],
   "source": [
    "F = QQ.number_field()\n",
    "print(F)\n",
    "I = F.ideal(2)\n",
    "I"
   ]
  },
  {
   "cell_type": "code",
   "execution_count": null,
   "id": "3aee98c7",
   "metadata": {},
   "outputs": [],
   "source": []
  },
  {
   "cell_type": "code",
   "execution_count": 26,
   "id": "81708d91",
   "metadata": {},
   "outputs": [
    {
     "data": {
      "text/plain": [
       "1313"
      ]
     },
     "execution_count": 26,
     "metadata": {},
     "output_type": "execute_result"
    }
   ],
   "source": [
    "11^3 - 22 +4"
   ]
  },
  {
   "cell_type": "code",
   "execution_count": 27,
   "id": "a5fb0981",
   "metadata": {},
   "outputs": [
    {
     "data": {
      "text/plain": [
       "1313/11"
      ]
     },
     "execution_count": 27,
     "metadata": {},
     "output_type": "execute_result"
    }
   ],
   "source": [
    "5252/44"
   ]
  },
  {
   "cell_type": "code",
   "execution_count": 30,
   "id": "2da3bde6",
   "metadata": {},
   "outputs": [
    {
     "data": {
      "text/plain": [
       "33"
      ]
     },
     "execution_count": 30,
     "metadata": {},
     "output_type": "execute_result"
    }
   ],
   "source": [
    "mod(121,44)"
   ]
  },
  {
   "cell_type": "code",
   "execution_count": 29,
   "id": "c01c7acc",
   "metadata": {},
   "outputs": [
    {
     "data": {
      "text/plain": [
       "2^2 * 13 * 101"
      ]
     },
     "execution_count": 29,
     "metadata": {},
     "output_type": "execute_result"
    }
   ],
   "source": [
    "factor(5252)"
   ]
  },
  {
   "cell_type": "code",
   "execution_count": 36,
   "id": "6a1eebe9",
   "metadata": {},
   "outputs": [
    {
     "data": {
      "text/plain": [
       "[0,\n",
       " 33,\n",
       " 0,\n",
       " 33,\n",
       " 0,\n",
       " 33,\n",
       " 0,\n",
       " 33,\n",
       " 0,\n",
       " 33,\n",
       " 0,\n",
       " 33,\n",
       " 0,\n",
       " 33,\n",
       " 0,\n",
       " 33,\n",
       " 0,\n",
       " 33,\n",
       " 0,\n",
       " 33,\n",
       " 0,\n",
       " 33,\n",
       " 0]"
      ]
     },
     "execution_count": 36,
     "metadata": {},
     "output_type": "execute_result"
    }
   ],
   "source": [
    "[mod(33*i^2,44) for i in [0,1,2,3,4,5,6,7,8,9,10,11,12,13,14,15,16,17,18,19,20,21,22]]"
   ]
  },
  {
   "cell_type": "code",
   "execution_count": 34,
   "id": "46c38b18",
   "metadata": {},
   "outputs": [
    {
     "data": {
      "text/plain": [
       "1617"
      ]
     },
     "execution_count": 34,
     "metadata": {},
     "output_type": "execute_result"
    }
   ],
   "source": [
    "33*49"
   ]
  },
  {
   "cell_type": "code",
   "execution_count": 35,
   "id": "c13854a7",
   "metadata": {},
   "outputs": [
    {
     "data": {
      "text/plain": [
       "33"
      ]
     },
     "execution_count": 35,
     "metadata": {},
     "output_type": "execute_result"
    }
   ],
   "source": [
    "mod(1617,44)"
   ]
  },
  {
   "cell_type": "code",
   "execution_count": 38,
   "id": "8623f60c",
   "metadata": {},
   "outputs": [
    {
     "name": "stdout",
     "output_type": "stream",
     "text": [
      "- F = Number Field in t with defining polynomial x^2 - 7\n",
      "- The CM-field as a relative extension is: Kr = Number Field in T with defining polynomial x^2 + 5252 over its base field\n",
      "- The CM-field as an absolute extension is: K = Number Field in S with defining polynomial x^4 + 10490*x^2 + 27657081\n",
      "- Notice that K is indeed a CM-field: K.is_CM() = True\n",
      "- The class number of K is:\n"
     ]
    },
    {
     "data": {
      "text/plain": [
       "1488"
      ]
     },
     "execution_count": 38,
     "metadata": {},
     "output_type": "execute_result"
    }
   ],
   "source": [
    "#1. Define F\n",
    "def_poly = x^2 - 7\n",
    "F.<t> = NumberField(def_poly)\n",
    "print('- F =',F)\n",
    "\n",
    "#2. Choose a negative fundamental discriminant and its minimal polynomial\n",
    "D = -5252\n",
    "def_poly_CM = x^2 - D\n",
    "\n",
    "#3. The associated CM field is\n",
    "Kr.<T> = F.extension(def_poly_CM)\n",
    "print('- The CM-field as a relative extension is: Kr =',Kr)\n",
    "\n",
    "K = Kr.absolute_field('S');\n",
    "print('- The CM-field as an absolute extension is: K =',K)\n",
    "\n",
    "#4. Class number\n",
    "print('- Notice that K is indeed a CM-field: K.is_CM() =',K.is_CM())\n",
    "print('- The class number of K is:')\n",
    "\n",
    "Kr.class_number()"
   ]
  },
  {
   "cell_type": "code",
   "execution_count": 40,
   "id": "e3a6245a",
   "metadata": {},
   "outputs": [
    {
     "data": {
      "text/plain": [
       "(Fractional ideal (2, 1/10518*S^3 - 1/8*S^2 + 5231/10518*S - 5233/8))^2 * (Fractional ideal (2, 1/42072*S^3 - 5287/42072*S + 1))^2"
      ]
     },
     "execution_count": 40,
     "metadata": {},
     "output_type": "execute_result"
    }
   ],
   "source": [
    "I = K.ideal(2)\n",
    "I.factor()"
   ]
  },
  {
   "cell_type": "code",
   "execution_count": null,
   "id": "b3be88f3",
   "metadata": {},
   "outputs": [],
   "source": []
  }
 ],
 "metadata": {
  "kernelspec": {
   "display_name": "SageMath 9.5",
   "language": "sage",
   "name": "sagemath"
  },
  "language_info": {
   "codemirror_mode": {
    "name": "ipython",
    "version": 3
   },
   "file_extension": ".py",
   "mimetype": "text/x-python",
   "name": "python",
   "nbconvert_exporter": "python",
   "pygments_lexer": "ipython3",
   "version": "3.10.6"
  }
 },
 "nbformat": 4,
 "nbformat_minor": 5
}
